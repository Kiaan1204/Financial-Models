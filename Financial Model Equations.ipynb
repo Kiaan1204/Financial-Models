{
 "cells": [
  {
   "cell_type": "code",
   "execution_count": 1,
   "id": "06207f88",
   "metadata": {},
   "outputs": [],
   "source": [
    "import numpy as np"
   ]
  },
  {
   "cell_type": "code",
   "execution_count": 37,
   "id": "2b25cd41",
   "metadata": {},
   "outputs": [],
   "source": [
    "# Lecture 1\n",
    "def call_option_payoff(stock_price_at_expiration, strike_price):\n",
    "    \"\"\"\n",
    "    Computes the payoff of a call option at expiration.\n",
    "    \n",
    "    Parameters:\n",
    "    - stock_price_at_expiration (float): The price of the underlying stock at the option's expiration.\n",
    "    - strike_price (float): The strike price of the call option.\n",
    "    \n",
    "    Returns:\n",
    "    - float: The payoff of the call option, which is max(stock price at expiration - strike price, 0).\n",
    "    \"\"\"\n",
    "    return max(stock_price_at_expiration - strike_price, 0)\n",
    "\n",
    "def put_option_payoff(stock_price_at_expiration, strike_price):\n",
    "    \"\"\"\n",
    "    Computes the payoff of a put option at expiration.\n",
    "    \n",
    "    Parameters:\n",
    "    - stock_price_at_expiration (float): The price of the underlying stock at the option's expiration.\n",
    "    - strike_price (float): The strike price of the put option.\n",
    "    \n",
    "    Returns:\n",
    "    - float: The payoff of the put option, which is max(strike price - stock price at expiration, 0).\n",
    "    \"\"\"\n",
    "    return max(strike_price - stock_price_at_expiration, 0)\n",
    "\n",
    "\n",
    "def put_call_parity(S0, K, r, T, C=None, P=None, D=0):\n",
    "    \"\"\"\n",
    "    General Put-Call Parity function, adaptable for cases with or without dividends.\n",
    "    \n",
    "    Parameters:\n",
    "    - S0: Current stock price\n",
    "    - K: Strike price\n",
    "    - r: Risk-free interest rate (%)\n",
    "    - T: Time to expiration (days)\n",
    "    - C: Call option price (if known)\n",
    "    - P: Put option price (if known)\n",
    "    - D: Dividends (default is 0 for no dividends)\n",
    "    \n",
    "    Returns:\n",
    "    - Computed value or verification based on the inputs.\n",
    "    \"\"\"\n",
    "    r = r/100\n",
    "    T = T/365\n",
    "    PV_K = K * np.exp(-r * T)  # Present value of strike price\n",
    "    \n",
    "    if C is not None and P is not None:\n",
    "        lhs = C - P\n",
    "        rhs = S0 - PV_K - D\n",
    "        if lhs > rhs:\n",
    "            # There's an arbitrage: Buy put, sell call, buy stock, borrow PV(K)\n",
    "            arbitrage_profit = lhs - rhs\n",
    "            action = \"Buy put, sell call, buy stock, and borrow the present value of the strike price.\"\n",
    "        elif lhs < rhs:\n",
    "            # There's an arbitrage: Sell put, buy call, short stock, lend PV(K)\n",
    "            arbitrage_profit = rhs - lhs\n",
    "            action = \"Sell put, buy call, short sell the stock, and lend the present value of the strike price.\"\n",
    "        else:\n",
    "            return \"No arbitrage opportunity exists.\"\n",
    "        return f\"Arbitrage opportunity: {action} Expected profit: {arbitrage_profit:.2f}\"    \n",
    "    elif C is not None:\n",
    "        return C - S0 + PV_K + D  # Computes P\n",
    "    elif P is not None:\n",
    "        return P + S0 - PV_K - D  # Computes C\n",
    "    else:\n",
    "        raise ValueError(\"Either C or P must be provided.\")\n",
    "\n",
    "def annualize_rate(monthly_rate):\n",
    "    \"\"\"\n",
    "    Annualizes a monthly interest rate.\n",
    "    \n",
    "    Parameters:\n",
    "    - monthly_rate: The monthly rate as a decimal (e.g., 1% = 0.01)\n",
    "    \n",
    "    Returns:\n",
    "    - The annualized rate.\n",
    "    \"\"\"\n",
    "    return (1 + monthly_rate)**12 - 1\n",
    "\n",
    "def put_call_parity_continuous_dividends(S0, K, r, q, T, C=None, P=None):\n",
    "    \"\"\"\n",
    "    Computes the Put-Call Parity for options on stocks that pay continuous dividends.\n",
    "    \n",
    "    Parameters:\n",
    "    - S0: Current stock price\n",
    "    - K: Strike price\n",
    "    - r: Risk-free interest rate (annualized)\n",
    "    - q: Continuous dividend yield (annualized)\n",
    "    - T: Time to expiration (in years)\n",
    "    - C: Price of the European call option (if known)\n",
    "    - P: Price of the European put option (if known)\n",
    "    \n",
    "    Returns:\n",
    "    - The computed value based on the provided information.\n",
    "    \"\"\"\n",
    "    r = r/100\n",
    "    T = T/365\n",
    "    PV_K = K * np.exp(-r * T)  # Present value of strike price\n",
    "    adjusted_S0 = S0 * np.exp(-q * T)  # Adjusted stock price for continuous dividends\n",
    "\n",
    "    if C is not None and P is not None:\n",
    "        print(\"Both call and put prices are provided. Verifying Put-Call Parity for continuous dividends.\")\n",
    "        lhs = C - P\n",
    "        rhs = adjusted_S0 - PV_K\n",
    "        return lhs, rhs\n",
    "    elif C is not None:\n",
    "        return C - adjusted_S0 + PV_K  # Computes P\n",
    "    elif P is not None:\n",
    "        return P + adjusted_S0 - PV_K  # Computes C\n",
    "    else:\n",
    "        raise ValueError(\"Either C or P must be provided.\")"
   ]
  },
  {
   "cell_type": "code",
   "execution_count": 20,
   "id": "ddcf5b62",
   "metadata": {},
   "outputs": [],
   "source": [
    "# Lecture 2\n",
    "def find_arbitrage_opportunity(K1, K2, C1, C2, P1, P2):\n",
    "    \"\"\"\n",
    "    Identifies and suggests arbitrage strategies for given call and put prices with different strike prices.\n",
    "    \n",
    "    Parameters:\n",
    "    - K1, K2: Strike prices where K1 < K2.\n",
    "    - C1, C2: Prices of call options for K1 and K2 respectively.\n",
    "    - P1, P2: Prices of put options for K1 and K2 respectively.\n",
    "    \n",
    "    Returns:\n",
    "    - Suggestions for arbitrage opportunities.\n",
    "    \"\"\"\n",
    "    call_spread = C1 - C2\n",
    "    put_spread = P2 - P1\n",
    "    strike_difference = K2 - K1\n",
    "    \n",
    "    strategies = []\n",
    "    \n",
    "    # Check for call spread arbitrage\n",
    "    if call_spread > strike_difference:\n",
    "        strategies.append(f\"Buy call with K2={K2}, sell call with K1={K1}.\")\n",
    "    \n",
    "    # Check for put spread arbitrage\n",
    "    if put_spread > strike_difference:\n",
    "        strategies.append(f\"Buy put with K1={K1}, sell put with K2={K2}.\")\n",
    "    \n",
    "    if strategies:\n",
    "        return \"Arbitrage opportunity: \" + \" AND \".join(strategies)\n",
    "    else:\n",
    "        return \"No clear arbitrage opportunity detected.\""
   ]
  },
  {
   "cell_type": "code",
   "execution_count": 3,
   "id": "89d7d9ca",
   "metadata": {},
   "outputs": [],
   "source": [
    "# Week 2\n",
    "def call_option_value_risk_neutral(S0, K, S_up, S_down):\n",
    "    # Calculate the risk-neutral probability\n",
    "    p_rn = (S0 - S_down) / (S_up - S_down)\n",
    "    \n",
    "    # Calculate the payoffs in each scenario\n",
    "    payoff_up = max(S_up - K, 0)\n",
    "    payoff_down = max(S_down - K, 0)\n",
    "    \n",
    "    # Calculate the expected payoff using risk-neutral probabilities\n",
    "    expected_payoff_rn = (payoff_up * p_rn) + (payoff_down * (1 - p_rn))\n",
    "    \n",
    "    # Present value is equal to the expected payoff when the riskless rate is zero\n",
    "    present_value_rn = expected_payoff_rn\n",
    "    \n",
    "    return present_value_rn"
   ]
  },
  {
   "cell_type": "code",
   "execution_count": 5,
   "id": "7ee4e51e",
   "metadata": {},
   "outputs": [
    {
     "data": {
      "text/plain": [
       "10.0"
      ]
     },
     "execution_count": 5,
     "metadata": {},
     "output_type": "execute_result"
    }
   ],
   "source": [
    "S0 = 100  # Current stock price\n",
    "K = 110  # Strike price\n",
    "S_up = 130  # Stock price if it goes up\n",
    "S_down = 70  # Stock price if it goes down\n",
    "p_up = 0.80  # Probability of going up\n",
    "p_down = 0.20  # Probability of going down\n",
    "\n",
    "# Calculate the value of the call option using risk-neutral probabilities\n",
    "option_value_rn = call_option_value_risk_neutral(S0, K, S_up, S_down)\n",
    "option_value_rn"
   ]
  },
  {
   "cell_type": "code",
   "execution_count": 4,
   "id": "9399e0fc",
   "metadata": {},
   "outputs": [],
   "source": [
    "# Binomial Tree Fast using vectorising\n",
    "def binomial_tree_fast(K, T, S0, r, N, u, d, sigma=0,opttype='C'):\n",
    "    dt = T / N\n",
    "    q = (np.exp((r-sigma) * dt) - d) / (u - d)\n",
    "    disc = np.exp(-r * dt)\n",
    "    \n",
    "    print(q)\n",
    "    # Price at each node at maturity\n",
    "    C = S0 * d ** np.arange(N, -1, -1) * u ** np.arange(0, N + 1, 1)\n",
    "    \n",
    "    if opttype == 'C':\n",
    "        # Calculate payoffs for a call option at maturity\n",
    "        C = np.maximum(C - K, np.zeros(N + 1))\n",
    "    elif opttype == 'P':\n",
    "        # Calculate payoffs for a put option at maturity\n",
    "        C = np.maximum(K - C, np.zeros(N + 1))\n",
    "      \n",
    "    print(C)\n",
    "    \n",
    "    # Backward induction through the tree\n",
    "    for i in range(N, 0, -1):\n",
    "        C = disc * (q * C[1:i + 1] + (1 - q) * C[0:i])\n",
    "    \n",
    "    return C[0]"
   ]
  },
  {
   "cell_type": "code",
   "execution_count": 5,
   "id": "0fdc42ac",
   "metadata": {},
   "outputs": [
    {
     "name": "stdout",
     "output_type": "stream",
     "text": [
      "0.5055648251114596\n",
      "[195.9646393 192.5057587 186.0821233 174.1525147 151.9975273 110.8525507\n",
      "  34.4404513   0.          0.          0.       ]\n"
     ]
    },
    {
     "data": {
      "text/plain": [
       "107.21201393677765"
      ]
     },
     "execution_count": 5,
     "metadata": {},
     "output_type": "execute_result"
    }
   ],
   "source": [
    "S0 = 100      # Initial Stock Price\n",
    "K = 200         # Strike Price\n",
    "T = 1       # Time to maturity in years\n",
    "r = 0.06       # Annual risk free rate\n",
    "sigma = 0.03\n",
    "std = 0.30\n",
    "N = 9          # Number of time steps\n",
    "u = 1.3            # Up-factor in binomial model\n",
    "d = 0.7       # Ensure recombining Tree\n",
    "opptype='P'    # Option Type 'C' or 'P'\n",
    "binomial_tree_fast(K, T, S0, r, N, u, d, sigma , opptype)"
   ]
  },
  {
   "cell_type": "code",
   "execution_count": null,
   "id": "99e49c93",
   "metadata": {},
   "outputs": [],
   "source": [
    "NP.ARRA"
   ]
  },
  {
   "cell_type": "code",
   "execution_count": 38,
   "id": "84436421",
   "metadata": {},
   "outputs": [
    {
     "data": {
      "text/plain": [
       "1.3064422737776826"
      ]
     },
     "execution_count": 38,
     "metadata": {},
     "output_type": "execute_result"
    }
   ],
   "source": [
    "np.exp(0.01*0.75 + (0.30 * np.sqrt(0.75)))"
   ]
  },
  {
   "cell_type": "code",
   "execution_count": 32,
   "id": "60d0d64a",
   "metadata": {},
   "outputs": [
    {
     "data": {
      "text/plain": [
       "0.630037375311876"
      ]
     },
     "execution_count": 32,
     "metadata": {},
     "output_type": "execute_result"
    }
   ],
   "source": [
    "1/np.exp(0.03-0.02) * 0.75 - (0.30 * 0.75 ** 1/2)"
   ]
  },
  {
   "cell_type": "code",
   "execution_count": null,
   "id": "64b9157f",
   "metadata": {},
   "outputs": [],
   "source": []
  }
 ],
 "metadata": {
  "kernelspec": {
   "display_name": "Python 3 (ipykernel)",
   "language": "python",
   "name": "python3"
  },
  "language_info": {
   "codemirror_mode": {
    "name": "ipython",
    "version": 3
   },
   "file_extension": ".py",
   "mimetype": "text/x-python",
   "name": "python",
   "nbconvert_exporter": "python",
   "pygments_lexer": "ipython3",
   "version": "3.10.8"
  }
 },
 "nbformat": 4,
 "nbformat_minor": 5
}
